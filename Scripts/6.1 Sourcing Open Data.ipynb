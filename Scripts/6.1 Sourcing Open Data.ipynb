{
 "cells": [
  {
   "cell_type": "markdown",
   "id": "f70605a3",
   "metadata": {},
   "source": [
    "# Table of Contents\n",
    "\n",
    "**1. Import Libraries**  \n",
    "\n",
    "**2. Import Dataset** \n",
    "\n",
    "**3. Data Cleaning Steps**  \n",
    ">>3.a Check for Mixed Datatypes, Rename Columns, Change Column Data types if needed        \n",
    ">>3.b Check for Missing Values   \n",
    ">>3.c Check for Duplicates  \n",
    "\n",
    "**4. Statistical Analysis**   \n",
    "\n",
    "\n",
    "**5. Export Cleaned Dataset**    \n",
    "\n"
   ]
  },
  {
   "cell_type": "markdown",
   "id": "dc5528b7",
   "metadata": {},
   "source": [
    "## 1. Import Libraries"
   ]
  },
  {
   "cell_type": "code",
   "execution_count": 96,
   "id": "e274771b",
   "metadata": {},
   "outputs": [],
   "source": [
    "# Import libraries\n",
    "import pandas as pd\n",
    "import numpy as np\n",
    "import os"
   ]
  },
  {
   "cell_type": "markdown",
   "id": "52a7249a",
   "metadata": {},
   "source": [
    "## 2. Import Dataset"
   ]
  },
  {
   "cell_type": "code",
   "execution_count": 97,
   "id": "81333f3d",
   "metadata": {
    "scrolled": false
   },
   "outputs": [],
   "source": [
    "# Create a Path variable\n",
    "path=r'C:\\Users\\sands\\Documents\\03-2023 Airbnb New York'\n",
    "\n",
    "# Read the Airbnb Listings CSV file\n",
    "df_list = pd.read_csv(os.path.join(path,'02 Data', 'Original Data','NewYorkABListings.csv'),index_col=False,\n",
    "                      dtype={'license': 'string'}).fillna('')"
   ]
  },
  {
   "cell_type": "code",
   "execution_count": 98,
   "id": "275d96b0",
   "metadata": {},
   "outputs": [
    {
     "name": "stdout",
     "output_type": "stream",
     "text": [
      "<class 'pandas.core.frame.DataFrame'>\n",
      "RangeIndex: 41533 entries, 0 to 41532\n",
      "Data columns (total 18 columns):\n",
      " #   Column                          Non-Null Count  Dtype  \n",
      "---  ------                          --------------  -----  \n",
      " 0   id                              41533 non-null  int64  \n",
      " 1   name                            41533 non-null  object \n",
      " 2   host_id                         41533 non-null  int64  \n",
      " 3   host_name                       41533 non-null  object \n",
      " 4   neighbourhood_group             41533 non-null  object \n",
      " 5   neighbourhood                   41533 non-null  object \n",
      " 6   latitude                        41533 non-null  float64\n",
      " 7   longitude                       41533 non-null  float64\n",
      " 8   room_type                       41533 non-null  object \n",
      " 9   price                           41533 non-null  int64  \n",
      " 10  minimum_nights                  41533 non-null  int64  \n",
      " 11  number_of_reviews               41533 non-null  int64  \n",
      " 12  last_review                     41533 non-null  object \n",
      " 13  reviews_per_month               41533 non-null  object \n",
      " 14  calculated_host_listings_count  41533 non-null  int64  \n",
      " 15  availability_365                41533 non-null  int64  \n",
      " 16  number_of_reviews_ltm           41533 non-null  int64  \n",
      " 17  license                         41533 non-null  string \n",
      "dtypes: float64(2), int64(8), object(7), string(1)\n",
      "memory usage: 5.7+ MB\n"
     ]
    }
   ],
   "source": [
    "# Check the imported dataset\n",
    "df_list.info()"
   ]
  },
  {
   "cell_type": "markdown",
   "id": "689c5010",
   "metadata": {},
   "source": [
    "## 3. Data Cleaning Steps"
   ]
  },
  {
   "cell_type": "markdown",
   "id": "dc6bea54",
   "metadata": {},
   "source": [
    "**3.a Check for Mixed Datatypes**"
   ]
  },
  {
   "cell_type": "code",
   "execution_count": 99,
   "id": "b896d20b",
   "metadata": {},
   "outputs": [
    {
     "name": "stdout",
     "output_type": "stream",
     "text": [
      "reviews_per_month\n"
     ]
    }
   ],
   "source": [
    "# Check for Mixed Datatypes\n",
    "for col in df_list.columns.tolist():\n",
    "  mixed = (df_list[[col]].applymap(type) != df_list[[col]].iloc[0].apply(type)).any(axis = 1)\n",
    "  if len (df_list[mixed]) > 0:\n",
    "    print (col)"
   ]
  },
  {
   "cell_type": "code",
   "execution_count": 100,
   "id": "1405b697",
   "metadata": {},
   "outputs": [],
   "source": [
    "# Rename the columns, Re-Assign correct datatypes to the columns and Drop the empty license column\n",
    "df_list =df_list.astype({'id':'string',\n",
    "                         'name':'string',\n",
    "                         'host_id':'string',\n",
    "                          'host_name':'string',\n",
    "                          'neighbourhood_group':'string',\n",
    "                          'neighbourhood':'string',\n",
    "                          'room_type':'string',\n",
    "                          'last_review':'datetime64[ns]'}).rename(columns={'id': 'Id',\n",
    "                 'name': 'Listing Name',\n",
    "                 'host_id': 'Host Id',\n",
    "                 'host_name': 'Host Name',\n",
    "                 'neighbourhood_group': 'Neighbourhood Group', \n",
    "                 'neighbourhood': 'Neighbourhood',\n",
    "                 'latitude': 'Latitude',\n",
    "                 'longitude': 'Longitude', \n",
    "                 'room_type': 'Listing Type', \n",
    "                 'price': 'Price', \n",
    "                 'minimum_nights': 'Minimum Nights', \n",
    "                 'number_of_reviews': 'Total Reviews', \n",
    "                 'last_review': 'Last Review Date',\n",
    "                 'reviews_per_month': 'Reviews per Month',\n",
    "                 'calculated_host_listings_count': 'Host Listings Count', \n",
    "                 'availability_365': 'Future Availability', \n",
    "                 'number_of_reviews_ltm': 'Reviews in Last 12 Months'}).drop(columns=['license'])  "
   ]
  },
  {
   "cell_type": "code",
   "execution_count": 101,
   "id": "35182a65",
   "metadata": {},
   "outputs": [
    {
     "name": "stdout",
     "output_type": "stream",
     "text": [
      "<class 'pandas.core.frame.DataFrame'>\n",
      "RangeIndex: 41533 entries, 0 to 41532\n",
      "Data columns (total 17 columns):\n",
      " #   Column                     Non-Null Count  Dtype         \n",
      "---  ------                     --------------  -----         \n",
      " 0   Id                         41533 non-null  int64         \n",
      " 1   Listing Name               41533 non-null  string        \n",
      " 2   Host Id                    41533 non-null  int64         \n",
      " 3   Host Name                  41533 non-null  string        \n",
      " 4   Neighbourhood Group        41533 non-null  string        \n",
      " 5   Neighbourhood              41533 non-null  string        \n",
      " 6   Latitude                   41533 non-null  float64       \n",
      " 7   Longitude                  41533 non-null  float64       \n",
      " 8   Listing Type               41533 non-null  string        \n",
      " 9   Price                      41533 non-null  int64         \n",
      " 10  Minimum Nights             41533 non-null  int64         \n",
      " 11  Total Reviews              41533 non-null  int64         \n",
      " 12  Last Review Date           32140 non-null  datetime64[ns]\n",
      " 13  Reviews per Month          41533 non-null  object        \n",
      " 14  Host Listings Count        41533 non-null  int64         \n",
      " 15  Future Availability        41533 non-null  int64         \n",
      " 16  Reviews in Last 12 Months  41533 non-null  int64         \n",
      "dtypes: datetime64[ns](1), float64(2), int64(8), object(1), string(5)\n",
      "memory usage: 5.4+ MB\n"
     ]
    }
   ],
   "source": [
    "df_list.info()"
   ]
  },
  {
   "cell_type": "markdown",
   "id": "5002a867",
   "metadata": {},
   "source": [
    "**3.b Check for Missing Values**"
   ]
  },
  {
   "cell_type": "code",
   "execution_count": 102,
   "id": "11fef19e",
   "metadata": {},
   "outputs": [
    {
     "data": {
      "text/plain": [
       "Id                              0\n",
       "Listing Name                    0\n",
       "Host Id                         0\n",
       "Host Name                       0\n",
       "Neighbourhood Group             0\n",
       "Neighbourhood                   0\n",
       "Latitude                        0\n",
       "Longitude                       0\n",
       "Listing Type                    0\n",
       "Price                           0\n",
       "Minimum Nights                  0\n",
       "Total Reviews                   0\n",
       "Last Review Date             9393\n",
       "Reviews per Month               0\n",
       "Host Listings Count             0\n",
       "Future Availability             0\n",
       "Reviews in Last 12 Months       0\n",
       "dtype: int64"
      ]
     },
     "execution_count": 102,
     "metadata": {},
     "output_type": "execute_result"
    }
   ],
   "source": [
    "df_list.isnull().sum()"
   ]
  },
  {
   "cell_type": "markdown",
   "id": "aa9d77a8",
   "metadata": {},
   "source": [
    "**The Last Review Date column has 9393 missing values. Upon checking the Total Reviews column it was found that these are new listing that haven't been reviewed by any guest yet.**"
   ]
  },
  {
   "cell_type": "markdown",
   "id": "883599a9",
   "metadata": {},
   "source": [
    "**3.c Check for Duplicates**"
   ]
  },
  {
   "cell_type": "code",
   "execution_count": 103,
   "id": "1c4cb19f",
   "metadata": {},
   "outputs": [],
   "source": [
    "# Create a subset of the duplicate values\n",
    "df_dups = df_list[df_list.duplicated()]"
   ]
  },
  {
   "cell_type": "code",
   "execution_count": 104,
   "id": "93bd948d",
   "metadata": {},
   "outputs": [
    {
     "data": {
      "text/html": [
       "<div>\n",
       "<style scoped>\n",
       "    .dataframe tbody tr th:only-of-type {\n",
       "        vertical-align: middle;\n",
       "    }\n",
       "\n",
       "    .dataframe tbody tr th {\n",
       "        vertical-align: top;\n",
       "    }\n",
       "\n",
       "    .dataframe thead th {\n",
       "        text-align: right;\n",
       "    }\n",
       "</style>\n",
       "<table border=\"1\" class=\"dataframe\">\n",
       "  <thead>\n",
       "    <tr style=\"text-align: right;\">\n",
       "      <th></th>\n",
       "      <th>Id</th>\n",
       "      <th>Listing Name</th>\n",
       "      <th>Host Id</th>\n",
       "      <th>Host Name</th>\n",
       "      <th>Neighbourhood Group</th>\n",
       "      <th>Neighbourhood</th>\n",
       "      <th>Latitude</th>\n",
       "      <th>Longitude</th>\n",
       "      <th>Listing Type</th>\n",
       "      <th>Price</th>\n",
       "      <th>Minimum Nights</th>\n",
       "      <th>Total Reviews</th>\n",
       "      <th>Last Review Date</th>\n",
       "      <th>Reviews per Month</th>\n",
       "      <th>Host Listings Count</th>\n",
       "      <th>Future Availability</th>\n",
       "      <th>Reviews in Last 12 Months</th>\n",
       "    </tr>\n",
       "  </thead>\n",
       "  <tbody>\n",
       "  </tbody>\n",
       "</table>\n",
       "</div>"
      ],
      "text/plain": [
       "Empty DataFrame\n",
       "Columns: [Id, Listing Name, Host Id, Host Name, Neighbourhood Group, Neighbourhood, Latitude, Longitude, Listing Type, Price, Minimum Nights, Total Reviews, Last Review Date, Reviews per Month, Host Listings Count, Future Availability, Reviews in Last 12 Months]\n",
       "Index: []"
      ]
     },
     "execution_count": 104,
     "metadata": {},
     "output_type": "execute_result"
    }
   ],
   "source": [
    "#View the subset\n",
    "df_dups"
   ]
  },
  {
   "cell_type": "markdown",
   "id": "25ec43db",
   "metadata": {},
   "source": [
    "**No duplicates found**"
   ]
  },
  {
   "cell_type": "markdown",
   "id": "c7f4b042",
   "metadata": {},
   "source": [
    "## 4. Statistical Analysis"
   ]
  },
  {
   "cell_type": "code",
   "execution_count": 105,
   "id": "5f966ffb",
   "metadata": {},
   "outputs": [
    {
     "data": {
      "text/html": [
       "<div>\n",
       "<style scoped>\n",
       "    .dataframe tbody tr th:only-of-type {\n",
       "        vertical-align: middle;\n",
       "    }\n",
       "\n",
       "    .dataframe tbody tr th {\n",
       "        vertical-align: top;\n",
       "    }\n",
       "\n",
       "    .dataframe thead th {\n",
       "        text-align: right;\n",
       "    }\n",
       "</style>\n",
       "<table border=\"1\" class=\"dataframe\">\n",
       "  <thead>\n",
       "    <tr style=\"text-align: right;\">\n",
       "      <th></th>\n",
       "      <th>Latitude</th>\n",
       "      <th>Longitude</th>\n",
       "      <th>Price</th>\n",
       "      <th>Minimum Nights</th>\n",
       "      <th>Total Reviews</th>\n",
       "      <th>Host Listings Count</th>\n",
       "      <th>Future Availability</th>\n",
       "      <th>Reviews in Last 12 Months</th>\n",
       "    </tr>\n",
       "  </thead>\n",
       "  <tbody>\n",
       "    <tr>\n",
       "      <th>count</th>\n",
       "      <td>41533.000000</td>\n",
       "      <td>41533.000000</td>\n",
       "      <td>41533.000000</td>\n",
       "      <td>41533.000000</td>\n",
       "      <td>41533.000000</td>\n",
       "      <td>41533.000000</td>\n",
       "      <td>41533.000000</td>\n",
       "      <td>41533.000000</td>\n",
       "    </tr>\n",
       "    <tr>\n",
       "      <th>mean</th>\n",
       "      <td>40.728292</td>\n",
       "      <td>-73.944526</td>\n",
       "      <td>221.978282</td>\n",
       "      <td>18.592204</td>\n",
       "      <td>26.204994</td>\n",
       "      <td>20.626803</td>\n",
       "      <td>143.287771</td>\n",
       "      <td>7.983700</td>\n",
       "    </tr>\n",
       "    <tr>\n",
       "      <th>std</th>\n",
       "      <td>0.057145</td>\n",
       "      <td>0.055965</td>\n",
       "      <td>919.502236</td>\n",
       "      <td>30.699921</td>\n",
       "      <td>56.178847</td>\n",
       "      <td>68.874393</td>\n",
       "      <td>144.279510</td>\n",
       "      <td>18.563894</td>\n",
       "    </tr>\n",
       "    <tr>\n",
       "      <th>min</th>\n",
       "      <td>40.500314</td>\n",
       "      <td>-74.249840</td>\n",
       "      <td>0.000000</td>\n",
       "      <td>1.000000</td>\n",
       "      <td>0.000000</td>\n",
       "      <td>1.000000</td>\n",
       "      <td>0.000000</td>\n",
       "      <td>0.000000</td>\n",
       "    </tr>\n",
       "    <tr>\n",
       "      <th>25%</th>\n",
       "      <td>40.687750</td>\n",
       "      <td>-73.982410</td>\n",
       "      <td>80.000000</td>\n",
       "      <td>2.000000</td>\n",
       "      <td>1.000000</td>\n",
       "      <td>1.000000</td>\n",
       "      <td>0.000000</td>\n",
       "      <td>0.000000</td>\n",
       "    </tr>\n",
       "    <tr>\n",
       "      <th>50%</th>\n",
       "      <td>40.723830</td>\n",
       "      <td>-73.953156</td>\n",
       "      <td>131.000000</td>\n",
       "      <td>10.000000</td>\n",
       "      <td>5.000000</td>\n",
       "      <td>1.000000</td>\n",
       "      <td>87.000000</td>\n",
       "      <td>1.000000</td>\n",
       "    </tr>\n",
       "    <tr>\n",
       "      <th>75%</th>\n",
       "      <td>40.762200</td>\n",
       "      <td>-73.924990</td>\n",
       "      <td>220.000000</td>\n",
       "      <td>30.000000</td>\n",
       "      <td>25.000000</td>\n",
       "      <td>4.000000</td>\n",
       "      <td>312.000000</td>\n",
       "      <td>8.000000</td>\n",
       "    </tr>\n",
       "    <tr>\n",
       "      <th>max</th>\n",
       "      <td>40.911380</td>\n",
       "      <td>-73.710870</td>\n",
       "      <td>98159.000000</td>\n",
       "      <td>1250.000000</td>\n",
       "      <td>1666.000000</td>\n",
       "      <td>487.000000</td>\n",
       "      <td>365.000000</td>\n",
       "      <td>992.000000</td>\n",
       "    </tr>\n",
       "  </tbody>\n",
       "</table>\n",
       "</div>"
      ],
      "text/plain": [
       "           Latitude     Longitude         Price  Minimum Nights  \\\n",
       "count  41533.000000  41533.000000  41533.000000    41533.000000   \n",
       "mean      40.728292    -73.944526    221.978282       18.592204   \n",
       "std        0.057145      0.055965    919.502236       30.699921   \n",
       "min       40.500314    -74.249840      0.000000        1.000000   \n",
       "25%       40.687750    -73.982410     80.000000        2.000000   \n",
       "50%       40.723830    -73.953156    131.000000       10.000000   \n",
       "75%       40.762200    -73.924990    220.000000       30.000000   \n",
       "max       40.911380    -73.710870  98159.000000     1250.000000   \n",
       "\n",
       "       Total Reviews  Host Listings Count  Future Availability  \\\n",
       "count   41533.000000         41533.000000         41533.000000   \n",
       "mean       26.204994            20.626803           143.287771   \n",
       "std        56.178847            68.874393           144.279510   \n",
       "min         0.000000             1.000000             0.000000   \n",
       "25%         1.000000             1.000000             0.000000   \n",
       "50%         5.000000             1.000000            87.000000   \n",
       "75%        25.000000             4.000000           312.000000   \n",
       "max      1666.000000           487.000000           365.000000   \n",
       "\n",
       "       Reviews in Last 12 Months  \n",
       "count               41533.000000  \n",
       "mean                    7.983700  \n",
       "std                    18.563894  \n",
       "min                     0.000000  \n",
       "25%                     0.000000  \n",
       "50%                     1.000000  \n",
       "75%                     8.000000  \n",
       "max                   992.000000  "
      ]
     },
     "execution_count": 105,
     "metadata": {},
     "output_type": "execute_result"
    }
   ],
   "source": [
    "df_list.describe()"
   ]
  },
  {
   "cell_type": "code",
   "execution_count": 106,
   "id": "f109d03d",
   "metadata": {},
   "outputs": [
    {
     "data": {
      "text/html": [
       "<div>\n",
       "<style scoped>\n",
       "    .dataframe tbody tr th:only-of-type {\n",
       "        vertical-align: middle;\n",
       "    }\n",
       "\n",
       "    .dataframe tbody tr th {\n",
       "        vertical-align: top;\n",
       "    }\n",
       "\n",
       "    .dataframe thead th {\n",
       "        text-align: right;\n",
       "    }\n",
       "</style>\n",
       "<table border=\"1\" class=\"dataframe\">\n",
       "  <thead>\n",
       "    <tr style=\"text-align: right;\">\n",
       "      <th></th>\n",
       "      <th>Id</th>\n",
       "      <th>Listing Name</th>\n",
       "      <th>Host Id</th>\n",
       "      <th>Host Name</th>\n",
       "      <th>Neighbourhood Group</th>\n",
       "      <th>Neighbourhood</th>\n",
       "      <th>Latitude</th>\n",
       "      <th>Longitude</th>\n",
       "      <th>Listing Type</th>\n",
       "      <th>Price</th>\n",
       "      <th>Minimum Nights</th>\n",
       "      <th>Total Reviews</th>\n",
       "      <th>Last Review Date</th>\n",
       "      <th>Reviews per Month</th>\n",
       "      <th>Host Listings Count</th>\n",
       "      <th>Future Availability</th>\n",
       "      <th>Reviews in Last 12 Months</th>\n",
       "    </tr>\n",
       "  </thead>\n",
       "  <tbody>\n",
       "    <tr>\n",
       "      <th>0</th>\n",
       "      <td>5136</td>\n",
       "      <td>Spacious Brooklyn Duplex, Patio + Garden</td>\n",
       "      <td>7378</td>\n",
       "      <td>Rebecca</td>\n",
       "      <td>Brooklyn</td>\n",
       "      <td>Sunset Park</td>\n",
       "      <td>40.66265</td>\n",
       "      <td>-73.99454</td>\n",
       "      <td>Entire home/apt</td>\n",
       "      <td>275</td>\n",
       "      <td>21</td>\n",
       "      <td>3</td>\n",
       "      <td>2022-08-10</td>\n",
       "      <td>0.03</td>\n",
       "      <td>1</td>\n",
       "      <td>267</td>\n",
       "      <td>1</td>\n",
       "    </tr>\n",
       "    <tr>\n",
       "      <th>1</th>\n",
       "      <td>5203</td>\n",
       "      <td>Cozy Clean Guest Room - Family Apt</td>\n",
       "      <td>7490</td>\n",
       "      <td>MaryEllen</td>\n",
       "      <td>Manhattan</td>\n",
       "      <td>Upper West Side</td>\n",
       "      <td>40.80380</td>\n",
       "      <td>-73.96751</td>\n",
       "      <td>Private room</td>\n",
       "      <td>75</td>\n",
       "      <td>2</td>\n",
       "      <td>118</td>\n",
       "      <td>2017-07-21</td>\n",
       "      <td>0.73</td>\n",
       "      <td>1</td>\n",
       "      <td>0</td>\n",
       "      <td>0</td>\n",
       "    </tr>\n",
       "    <tr>\n",
       "      <th>2</th>\n",
       "      <td>5121</td>\n",
       "      <td>BlissArtsSpace!</td>\n",
       "      <td>7356</td>\n",
       "      <td>Garon</td>\n",
       "      <td>Brooklyn</td>\n",
       "      <td>Bedford-Stuyvesant</td>\n",
       "      <td>40.68535</td>\n",
       "      <td>-73.95512</td>\n",
       "      <td>Private room</td>\n",
       "      <td>60</td>\n",
       "      <td>30</td>\n",
       "      <td>50</td>\n",
       "      <td>2019-12-02</td>\n",
       "      <td>0.3</td>\n",
       "      <td>2</td>\n",
       "      <td>322</td>\n",
       "      <td>0</td>\n",
       "    </tr>\n",
       "    <tr>\n",
       "      <th>3</th>\n",
       "      <td>5178</td>\n",
       "      <td>Large Furnished Room Near B'way</td>\n",
       "      <td>8967</td>\n",
       "      <td>Shunichi</td>\n",
       "      <td>Manhattan</td>\n",
       "      <td>Midtown</td>\n",
       "      <td>40.76457</td>\n",
       "      <td>-73.98317</td>\n",
       "      <td>Private room</td>\n",
       "      <td>68</td>\n",
       "      <td>2</td>\n",
       "      <td>559</td>\n",
       "      <td>2022-11-20</td>\n",
       "      <td>3.38</td>\n",
       "      <td>1</td>\n",
       "      <td>79</td>\n",
       "      <td>50</td>\n",
       "    </tr>\n",
       "    <tr>\n",
       "      <th>4</th>\n",
       "      <td>2595</td>\n",
       "      <td>Skylit Midtown Castle</td>\n",
       "      <td>2845</td>\n",
       "      <td>Jennifer</td>\n",
       "      <td>Manhattan</td>\n",
       "      <td>Midtown</td>\n",
       "      <td>40.75356</td>\n",
       "      <td>-73.98559</td>\n",
       "      <td>Entire home/apt</td>\n",
       "      <td>175</td>\n",
       "      <td>30</td>\n",
       "      <td>49</td>\n",
       "      <td>2022-06-21</td>\n",
       "      <td>0.31</td>\n",
       "      <td>3</td>\n",
       "      <td>365</td>\n",
       "      <td>1</td>\n",
       "    </tr>\n",
       "  </tbody>\n",
       "</table>\n",
       "</div>"
      ],
      "text/plain": [
       "     Id                              Listing Name Host Id  Host Name  \\\n",
       "0  5136  Spacious Brooklyn Duplex, Patio + Garden    7378    Rebecca   \n",
       "1  5203        Cozy Clean Guest Room - Family Apt    7490  MaryEllen   \n",
       "2  5121                           BlissArtsSpace!    7356      Garon   \n",
       "3  5178          Large Furnished Room Near B'way　    8967   Shunichi   \n",
       "4  2595                     Skylit Midtown Castle    2845   Jennifer   \n",
       "\n",
       "  Neighbourhood Group       Neighbourhood  Latitude  Longitude  \\\n",
       "0            Brooklyn         Sunset Park  40.66265  -73.99454   \n",
       "1           Manhattan     Upper West Side  40.80380  -73.96751   \n",
       "2            Brooklyn  Bedford-Stuyvesant  40.68535  -73.95512   \n",
       "3           Manhattan             Midtown  40.76457  -73.98317   \n",
       "4           Manhattan             Midtown  40.75356  -73.98559   \n",
       "\n",
       "      Listing Type  Price  Minimum Nights  Total Reviews Last Review Date  \\\n",
       "0  Entire home/apt    275              21              3       2022-08-10   \n",
       "1     Private room     75               2            118       2017-07-21   \n",
       "2     Private room     60              30             50       2019-12-02   \n",
       "3     Private room     68               2            559       2022-11-20   \n",
       "4  Entire home/apt    175              30             49       2022-06-21   \n",
       "\n",
       "  Reviews per Month  Host Listings Count  Future Availability  \\\n",
       "0              0.03                    1                  267   \n",
       "1              0.73                    1                    0   \n",
       "2               0.3                    2                  322   \n",
       "3              3.38                    1                   79   \n",
       "4              0.31                    3                  365   \n",
       "\n",
       "   Reviews in Last 12 Months  \n",
       "0                          1  \n",
       "1                          0  \n",
       "2                          0  \n",
       "3                         50  \n",
       "4                          1  "
      ]
     },
     "execution_count": 106,
     "metadata": {},
     "output_type": "execute_result"
    }
   ],
   "source": [
    "df_list.head()"
   ]
  },
  {
   "cell_type": "markdown",
   "id": "4b5a17ee",
   "metadata": {},
   "source": [
    "## 4. Export the Cleaned Dataset"
   ]
  },
  {
   "cell_type": "code",
   "execution_count": 108,
   "id": "19de2509",
   "metadata": {},
   "outputs": [],
   "source": [
    "# Export the cleaned dataset to a csv file\n",
    "df_list.to_csv(os.path.join(path, '02 Data','Prepared Data', 'Airbnb_cleaned.csv'))"
   ]
  }
 ],
 "metadata": {
  "kernelspec": {
   "display_name": "Python 3 (ipykernel)",
   "language": "python",
   "name": "python3"
  },
  "language_info": {
   "codemirror_mode": {
    "name": "ipython",
    "version": 3
   },
   "file_extension": ".py",
   "mimetype": "text/x-python",
   "name": "python",
   "nbconvert_exporter": "python",
   "pygments_lexer": "ipython3",
   "version": "3.9.13"
  }
 },
 "nbformat": 4,
 "nbformat_minor": 5
}
